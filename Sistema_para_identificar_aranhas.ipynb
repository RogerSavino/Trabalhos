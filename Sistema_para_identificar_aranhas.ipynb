{
  "nbformat": 4,
  "nbformat_minor": 0,
  "metadata": {
    "colab": {
      "provenance": [],
      "authorship_tag": "ABX9TyOkk2Ftd1nHu0GLbsgWvKID",
      "include_colab_link": true
    },
    "kernelspec": {
      "name": "python3",
      "display_name": "Python 3"
    },
    "language_info": {
      "name": "python"
    }
  },
  "cells": [
    {
      "cell_type": "markdown",
      "metadata": {
        "id": "view-in-github",
        "colab_type": "text"
      },
      "source": [
        "<a href=\"https://colab.research.google.com/github/RogerSavino/Trabalhos/blob/main/Sistema_para_identificar_aranhas.ipynb\" target=\"_parent\"><img src=\"https://colab.research.google.com/assets/colab-badge.svg\" alt=\"Open In Colab\"/></a>"
      ]
    },
    {
      "cell_type": "code",
      "execution_count": null,
      "metadata": {
        "colab": {
          "base_uri": "https://localhost:8080/"
        },
        "id": "cHjS2L9LuBQr",
        "outputId": "b8a06130-925a-4182-e4a7-6c3f7e823e74"
      },
      "outputs": [
        {
          "output_type": "stream",
          "name": "stdout",
          "text": [
            "\n",
            "------------------- IDENTIFICADOR DE ARANHAS -----------------\n",
            "\n",
            "Responda as perguntas para identificar a possível espécie da aranha.\n",
            "\n",
            "\n",
            "Qual era o tamanho da aranha que lhe atacou?:\n",
            "\n",
            "1. Grande, maior do que um palmo de mão.\n",
            "2. Grande, do tamanho de um palmo de mão.\n",
            "3. Média, um pouco menor que um palmo de mão\n",
            "4. Pequena, quase não vi\n",
            "5. Pequena, nem mesmo a vi\n"
          ]
        }
      ],
      "source": [
        "#--------------------------IDENTIFICADOR DE POSSÍVEL ESPÉCIE DE ARANHA-----------------------\n",
        "regras = [\n",
        "    {\n",
        "        #espécies de aranhas que serão utilizadas no teste\n",
        "        \"nome\": \"Aranha-armadeira\",\n",
        "        \"tamanho_aranha\": [\"Grande, do tamanho de um palmo de mão.\", \"Média, um pouco menor que um palmo de mão\"],\n",
        "        \"cor_aranha\": [\"Marrom acinzentada\"],\n",
        "        \"postura\": [\"Sim, assumiu postura estranha.\"],\n",
        "        \"extra_info\": [\"As presas tinham uma coloração diferente.\", \"Parecia ter pelos pelo corpo todo\"]\n",
        "    },\n",
        "    {\n",
        "        \"nome\": \"Aranha-caranguejeira ou Tarântula\",\n",
        "        \"tamanho_aranha\": [\"Grande, do tamanho de um palmo de mão.\", \"Grande, maior do que um palmo de mão.\"],\n",
        "        \"cor_aranha\": [\"Preta\", \"Marrom\", \"Marrom acinzentada\"],\n",
        "        \"postura\": [\"Não, não assumiu postura estranha\"],\n",
        "        \"extra_info\": [\"Parecia ter pelos pelo corpo todo\"]\n",
        "    },\n",
        "    {\n",
        "        \"nome\": \"Aranha-marrom\",\n",
        "        \"tamanho_aranha\": [\"Pequena, quase não vi\", \"Pequena, nem mesmo a vi\"],\n",
        "        \"cor_aranha\": [\"Marrom clara\", \"Marrom\"],\n",
        "        \"postura\": [\"Não, não assumiu postura estranha.\"],\n",
        "        \"extra_info\": [\"Tinha um desenho estranho no corpo\", \"Mal senti a picada.\"]\n",
        "    },\n",
        "    {\n",
        "        \"nome\": \"Viúva-negra\",\n",
        "        \"tamanho_aranha\": [\"Pequena, quase não vi\", \"Pequena, nem mesmo a vi\"],\n",
        "        \"cor_aranha\": [\"Preta\"],\n",
        "        \"postura\": [\"Não, não assumiu postura estranha.\"],\n",
        "        \"extra_info\": [\"Tinha um desenho estranho no corpo\"]\n",
        "    }\n",
        "\n",
        "]\n",
        "\n",
        "# ---------------------------   Escolha de opções  ------------------------\n",
        "def exibir_opcoes(titulo, opcoes):\n",
        "    print(f\"\\n{titulo}:\\n\")\n",
        "    for idx, opcao in enumerate(opcoes, 1):\n",
        "        print(f\"{idx}. {opcao}\")\n",
        "    escolha = int(input(\"\\nEscolha o número correspondente à opção:\"))\n",
        "    return opcoes[escolha - 1]\n",
        "\n",
        "# -------------------------- Probabilidades para achar a espécie -------------------------\n",
        "def calcular_probabilidades(respostas):\n",
        "    resultados = {}\n",
        "    for especie in regras:\n",
        "        pontos = 0\n",
        "        total_criterios = 3\n",
        "\n",
        "        if respostas[\"tamanho_aranha\"] in especie[\"tamanho_aranha\"]:\n",
        "            pontos += 1\n",
        "        if respostas[\"postura\"] in especie[\"postura\"]:\n",
        "            pontos += 1\n",
        "        if respostas[\"cor_aranha\"] in especie[\"cor_aranha\"]:\n",
        "            pontos += 1\n",
        "\n",
        "        # Verificar informações extras.\n",
        "        if especie[\"extra_info\"] and respostas[\"extra_info\"] in especie[\"extra_info\"]:\n",
        "            pontos += 1\n",
        "            total_criterios += 1  # Considera o critério extra\n",
        "\n",
        "        # Calcula a porcentagem\n",
        "        resultados[especie[\"nome\"]] = (pontos / total_criterios) * 100\n",
        "\n",
        "    return resultados\n",
        "\n",
        "# ------------------------- Recebe as respostas das opções --------------------------------\n",
        "def coletar_respostas():\n",
        "    tamanho_aranha = exibir_opcoes(\"Qual era o tamanho da aranha que lhe atacou?\", [\"Grande, maior do que um palmo de mão.\", \"Grande, do tamanho de um palmo de mão.\", \"Média, um pouco menor que um palmo de mão\", \"Pequena, quase não vi\", \"Pequena, nem mesmo a vi\"])\n",
        "    cor_aranha = exibir_opcoes(\"Qual era a cor dessa aranha?\", [\"Preta\", \"Marrom\", \"Marrom acinzentada\", \"Marrom clara\"])\n",
        "    postura = exibir_opcoes(\"A aranha assumiu alguma postura estranha antes ou após o ataque?\", [\"Sim, assumiu postura estranha.\", \"Não, não assumiu postura estranha.\"])\n",
        "    extra_info = exibir_opcoes(\"Para fins de confirmação: Mais algum detalhe que acredite ser importante mencionar?\", [\"As presas tinham uma coloração diferente.\", \"Parecia ter pelos pelo corpo todo\", \"Tinha um desenho estranho no corpo\", \"Mal senti a picada.\"])\n",
        "    #a função retorna as opções escolhidas\n",
        "    return {\n",
        "        \"tamanho_aranha\": tamanho_aranha,\n",
        "        \"cor_aranha\": cor_aranha,\n",
        "        \"postura\": postura,\n",
        "        \"extra_info\": extra_info\n",
        "    }\n",
        "\n",
        "#------------------------------ Função principal ------------------------------\n",
        "def main():\n",
        "    print(\"\\n------------------- IDENTIFICADOR DE ARANHAS -----------------\\n\")\n",
        "    print(\"Responda as perguntas para identificar a possível espécie da aranha.\\n\")\n",
        "    respostas = coletar_respostas()\n",
        "    probabilidades = calcular_probabilidades(respostas)\n",
        "\n",
        "    print(\"\\n----------------------- Resultados ----------------------\\n\")\n",
        "\n",
        "    for aranha, prob in sorted(probabilidades.items(), key=lambda x: x[1], reverse=True):\n",
        "        cor = \"\\033[92m\" if prob >= 60 else \"\\033[1m\"  #O sistema irá alterar a coloração da especíe que possuir uma probabilidade superior a 60%\n",
        "        print(f\"{cor}{aranha}: {prob:.2f}%\\033[0m\")\n",
        "    print(\"\\nNosso teste serve apenas para identificação da possível aranha que lhe atacou.\")\n",
        "    print(\"Independentemente da resposta, recorra ao pronto-socorro para melhor avaliação.\")\n",
        "    print(\"\\n---------------------------------------------------------\")\n",
        "\n",
        "if __name__ == \"__main__\":\n",
        "    main()"
      ]
    },
    {
      "cell_type": "code",
      "source": [],
      "metadata": {
        "id": "YdXbhFpUuWtU"
      },
      "execution_count": null,
      "outputs": []
    }
  ]
}